{
 "cells": [
  {
   "cell_type": "markdown",
   "id": "0705e318",
   "metadata": {},
   "source": [
    "## Import"
   ]
  },
  {
   "cell_type": "code",
   "execution_count": 872,
   "id": "96a71958",
   "metadata": {},
   "outputs": [],
   "source": [
    "import random as rd\n",
    "import numpy as np\n",
    "import matplotlib.pyplot as plt"
   ]
  },
  {
   "cell_type": "code",
   "execution_count": 873,
   "id": "9a848971",
   "metadata": {},
   "outputs": [],
   "source": [
    "import seaborn as sns\n",
    "from scipy.stats import pearsonr"
   ]
  },
  {
   "cell_type": "code",
   "execution_count": 874,
   "id": "c4b66362",
   "metadata": {},
   "outputs": [],
   "source": [
    "import time\n",
    "import math"
   ]
  },
  {
   "cell_type": "code",
   "execution_count": 875,
   "id": "a0b0cec4",
   "metadata": {},
   "outputs": [],
   "source": [
    "import folium"
   ]
  },
  {
   "cell_type": "markdown",
   "id": "456ec494",
   "metadata": {},
   "source": [
    "## Defining Nodes"
   ]
  },
  {
   "cell_type": "code",
   "execution_count": 876,
   "id": "4664cba6",
   "metadata": {},
   "outputs": [],
   "source": [
    "class City:\n",
    "    \n",
    "    \"\"\"\n",
    "    The City class represents a city with its x and y coordinates (usually longitude and latitude) and a name.\n",
    "\n",
    "    Attributes:\n",
    "    - x (float): The x-coordinate of the city (usually latitude).\n",
    "    - y (float): The y-coordinate of the city (usually longitude).\n",
    "    - name (str): The name of the city.\n",
    "    \"\"\"\n",
    "    \n",
    "    def __init__(self, x, y, name):\n",
    "        \n",
    "        \"\"\"\n",
    "        Constructor for the City class.\n",
    "\n",
    "        Args:\n",
    "        - x (float): The x-coordinate of the city.\n",
    "        - y (float): The y-coordinate of the city.\n",
    "        - name (str): The name of the city.\n",
    "\n",
    "        Returns:\n",
    "        - An instance of the City class.\n",
    "        \"\"\"\n",
    "        \n",
    "        self.x = x\n",
    "        self.y = y\n",
    "        self.name = name"
   ]
  },
  {
   "cell_type": "markdown",
   "id": "a6d03d59",
   "metadata": {},
   "source": [
    "## Defining Cost Functions"
   ]
  },
  {
   "cell_type": "code",
   "execution_count": 350,
   "id": "71aa597a",
   "metadata": {},
   "outputs": [],
   "source": [
    "class anealor_model():\n",
    "    \n",
    "    \"\"\"\n",
    "    Implementation of a simulated annealing model to find geometric median\n",
    "    among a set of cities.\n",
    "\n",
    "    Attributes:\n",
    "    - iterations (int): Number of iterations for the annealing process.\n",
    "    - alpha (float): Cooling rate for the annealing process.\n",
    "    - early_stopping_rounds (int): Number of rounds without improvement before stopping.\n",
    "    \"\"\"\n",
    "    \n",
    "    def __init__(self, iterations, alpha=0.99, early_stopping_rounds=100):\n",
    "        \n",
    "        \"\"\"\n",
    "        Constructor for the anealor_model class.\n",
    "        \n",
    "        Args:\n",
    "        - iterations (int): Number of iterations.\n",
    "        - alpha (float): Cooling rate. Default is 0.99.\n",
    "        - early_stopping_rounds (int): Rounds without improvement before stopping. Default is 100.\n",
    "        \"\"\"\n",
    "        \n",
    "        self.iterations = iterations\n",
    "        self.alpha = alpha\n",
    "        self.early_stopping_rounds = early_stopping_rounds\n",
    "    \n",
    "    def haversine(self, coord1, coord2):\n",
    "        \n",
    "        \"\"\"\n",
    "        Calculate the Haversine distance between two coordinates.\n",
    "\n",
    "        Args:\n",
    "        - coord1 (City): First city.\n",
    "        - coord2 (City): Second city.\n",
    "\n",
    "        Returns:\n",
    "        - distance (float): Distance in kilometers between the two cities.\n",
    "        \"\"\"\n",
    "        \n",
    "        R = 6371.0\n",
    "\n",
    "        lon1 = math.radians(coord1.x)\n",
    "        lat1 = math.radians(coord1.y)\n",
    "        lon2 = math.radians(coord2.x)\n",
    "        lat2 = math.radians(coord2.y)\n",
    "\n",
    "        dlat = lat2 - lat1\n",
    "        dlon = lon2 - lon1\n",
    "\n",
    "        a = math.sin(dlat / 2)**2 + math.cos(lat1) * math.cos(lat2) * math.sin(dlon / 2)**2\n",
    "        a = max(0, a)\n",
    "        a = min(1, a)\n",
    "        c = 2 * math.atan2(math.sqrt(a), math.sqrt(1 - a))\n",
    "\n",
    "        distance = R * c\n",
    "        return distance\n",
    "    \n",
    "    def cost(self, city, cities):\n",
    "        \n",
    "        \"\"\"\n",
    "        Calculate the cumulative distance from a given point to a list of cities.\n",
    "\n",
    "        Args:\n",
    "        - city (City): Reference point.\n",
    "        - cities (list of City): List of cities.\n",
    "\n",
    "        Returns:\n",
    "        - total cost (float): Cumulative distance.\n",
    "        \"\"\"\n",
    "        \n",
    "        costs = []\n",
    "        lst = [city.x, city.y]\n",
    "        \n",
    "        for i in range(len(cities)):\n",
    "            \n",
    "            lst[0], lst[1] = self.fixer(lst[0], lst[1])\n",
    "            costs.append(self.haversine(City(lst[0], lst[1], \"x\"), cities[i]))\n",
    "\n",
    "        return(sum(costs))\n",
    "        \n",
    "    def fixer(self, x, y):\n",
    "    \n",
    "        \"\"\"\n",
    "        Adjust the coordinates to be within valid bounds.\n",
    "\n",
    "        Args:\n",
    "        - x (float): x-coordinate (usually longitude).\n",
    "        - y (float): y-coordinate (usually latitude).\n",
    "\n",
    "        Returns:\n",
    "        - tuple: Adjusted (x, y) coordinates.\n",
    "        \"\"\"\n",
    "\n",
    "    \n",
    "        if (x < -180):\n",
    "\n",
    "                x = x + 360\n",
    "\n",
    "        if (x > 180):\n",
    "\n",
    "            x = x - 360\n",
    "\n",
    "        if (y < -90):\n",
    "\n",
    "                y = y + 180\n",
    "\n",
    "        if (y > 90):\n",
    "\n",
    "            y = y - 180\n",
    "\n",
    "        return x, y\n",
    "    \n",
    "    def err_pc(self, point, actual, cities):\n",
    "        \n",
    "        \"\"\"\n",
    "        Calculate the percentage error between observed and expected cost.\n",
    "\n",
    "        Args:\n",
    "        - point (City): Observed city.\n",
    "        - actual (City): Expected city.\n",
    "        - cities (list of City): List of cities.\n",
    "\n",
    "        Returns:\n",
    "        - percentage error (float).\n",
    "        \"\"\"\n",
    "        \n",
    "        observed = self.cost(point, cities)\n",
    "        expected = self.cost(actual, cities)\n",
    "        \n",
    "        if expected == 0:\n",
    "            return 0\n",
    "        \n",
    "        percentage_error = abs(observed - expected) / expected * 100\n",
    "        return percentage_error\n",
    "    \n",
    "    def anealor(self, cities):\n",
    "        \n",
    "        \"\"\"\n",
    "        Implement the simulated annealing algorithm to find an optimal solution \n",
    "        among a set of cities.\n",
    "\n",
    "        Args:\n",
    "        - cities (list of City): List of cities.\n",
    "\n",
    "        Returns:\n",
    "        - tuple: Candidate solution, results, guess results, and step sizes.\n",
    "        \"\"\"\n",
    "        \n",
    "        results = []\n",
    "        guess_results = []\n",
    "        step_Size = []\n",
    "        \n",
    "        cand = [0, 0, 0]\n",
    "        initial_step_size = 20\n",
    "        temp = self.iterations\n",
    "        \n",
    "        # Initialize a candidate solution with random coordinates and its cost\n",
    "        \n",
    "        cand[0] = rd.randint(-180, 180)\n",
    "        cand[1] = rd.randint(-90, 90)\n",
    "        cand[2] = self.cost(City(cand[0], cand[1], \"x\"), cities)\n",
    "\n",
    "        no_improvement_rounds = 0\n",
    "        best_cost = float('inf')\n",
    "\n",
    "        for i in range(self.iterations):\n",
    "            \n",
    "            # Create a potential new solution by perturbing the current candidate's coordinates\n",
    "            # The magnitude of the perturbation decreases as the temperature drops.\n",
    "            \n",
    "            pot = [0, 0, 0]\n",
    "            current_step_size = initial_step_size * (temp / self.iterations)\n",
    "            pot[0] = cand[0] + (rd.uniform(-current_step_size, current_step_size) * temp / 10)\n",
    "            pot[1] = cand[1] + (rd.uniform(-current_step_size, current_step_size) * temp / 10)\n",
    "            \n",
    "            # Ensure the potential solution's coordinates are valid\n",
    "            \n",
    "            pot[0], pot[1] = self.fixer(pot[0], pot[1])\n",
    "            \n",
    "            # Calculate the cost for the potential solution\n",
    "            \n",
    "            pot[2] = self.cost(City(pot[0], pot[1], x), cities)\n",
    "            \n",
    "            # Accept the potential solution if it's better, or with a certain probability if it's worse\n",
    "            # This probabilistic acceptance allows for exploration and prevents being stuck in local minima\n",
    "            \n",
    "            if pot[2] < cand[2] or rd.random() < math.exp(-(pot[2] - cand[2]) / temp):\n",
    "                cand = pot\n",
    "                \n",
    "            # Track the best cost found so far and check for early stopping\n",
    "            \n",
    "            if cand[2] < best_cost:\n",
    "                best_cost = cand[2]\n",
    "                no_improvement_rounds = 0\n",
    "            else:\n",
    "                no_improvement_rounds += 1\n",
    "                if no_improvement_rounds >= self.early_stopping_rounds:\n",
    "                    break\n",
    "                    \n",
    "            # Reduce the temperature by a factor of alpha\n",
    "            \n",
    "            temp = self.alpha * temp\n",
    "            \n",
    "            results.append(i)\n",
    "            guess_results.append(cand[2])\n",
    "            step_Size.append(current_step_size * temp / 100)\n",
    "\n",
    "        cand[0], cand[1] = self.fixer(cand[0], cand[1])\n",
    "        return cand, results, guess_results, step_Size"
   ]
  },
  {
   "cell_type": "markdown",
   "id": "a83d0411",
   "metadata": {},
   "source": [
    "## Test"
   ]
  },
  {
   "cell_type": "code",
   "execution_count": 708,
   "id": "69cc8283",
   "metadata": {},
   "outputs": [],
   "source": [
    "cities = [\n",
    "    \n",
    "    City(-122.4194, 37.7749, \"SF\"),\n",
    "    City(121.5654, 25.0330, \"TP\"),\n",
    "    City(126.9918, 37.5519, \"SL\"),\n",
    "    City(73.7537, 33.1480, \"MP\"),\n",
    "    \n",
    "]"
   ]
  },
  {
   "cell_type": "code",
   "execution_count": 709,
   "id": "4b3703e4",
   "metadata": {},
   "outputs": [],
   "source": [
    "actual = [126.9918, 37.5519]"
   ]
  },
  {
   "cell_type": "code",
   "execution_count": 710,
   "id": "b0d778dd",
   "metadata": {},
   "outputs": [
    {
     "name": "stdout",
     "output_type": "stream",
     "text": [
      "118.37685159755489 37.60297329164871\n"
     ]
    }
   ],
   "source": [
    "x = []\n",
    "y = []\n",
    "\n",
    "z = anealor_model(1500)\n",
    "\n",
    "for i in range(50):\n",
    "    \n",
    "    k = z.anealor(cities)\n",
    "    x.append(k[0][0])\n",
    "    y.append(k[0][1])\n",
    "\n",
    "print(np.median(x), np.median(y))"
   ]
  },
  {
   "cell_type": "markdown",
   "id": "7f10a952",
   "metadata": {},
   "source": [
    "## Output"
   ]
  },
  {
   "cell_type": "code",
   "execution_count": 829,
   "id": "a9e068db",
   "metadata": {},
   "outputs": [],
   "source": [
    "itr = [1, 5, 10, 15, 25, 50, 100, 500]"
   ]
  },
  {
   "cell_type": "code",
   "execution_count": 830,
   "id": "079dbd58",
   "metadata": {},
   "outputs": [],
   "source": [
    "p = 5"
   ]
  },
  {
   "cell_type": "code",
   "execution_count": 831,
   "id": "11aa5908",
   "metadata": {},
   "outputs": [],
   "source": [
    "a = anealor_model(p, early_stopping_rounds = p)"
   ]
  },
  {
   "cell_type": "code",
   "execution_count": 832,
   "id": "9168a53f",
   "metadata": {
    "scrolled": false
   },
   "outputs": [],
   "source": [
    "x = []\n",
    "y = []\n",
    "i_s = []\n",
    "mean_cost = []\n",
    "step_Size = []\n",
    "\n",
    "for i in range(1000):\n",
    "    k = a.anealor(cities)\n",
    "    x.append(k[0][0])\n",
    "    y.append(k[0][1])\n",
    "    i_s.append(k[1])\n",
    "    mean_cost.append(k[2])\n",
    "    step_Size.append(k[3])"
   ]
  },
  {
   "cell_type": "code",
   "execution_count": 833,
   "id": "a2279b96",
   "metadata": {
    "scrolled": false
   },
   "outputs": [],
   "source": [
    "averages_cost = []\n",
    "\n",
    "for i in range(p):\n",
    "    total = 0\n",
    "    for j in range(1000):\n",
    "        total += mean_cost[j][i]\n",
    "    averages_cost.append(total / 1000)"
   ]
  },
  {
   "cell_type": "code",
   "execution_count": 834,
   "id": "b0225b24",
   "metadata": {},
   "outputs": [],
   "source": [
    "averages_step_size = []\n",
    "\n",
    "for i in range(p):\n",
    "    total = sum(step_Size[j][i] for j in range(1000))\n",
    "    averages_step_size.append(total / 1000)"
   ]
  },
  {
   "cell_type": "code",
   "execution_count": 823,
   "id": "9019e2ca",
   "metadata": {
    "scrolled": false
   },
   "outputs": [
    {
     "data": {
      "image/png": "[encoded data removed]",
      "text/plain": [
       "<Figure size 720x432 with 1 Axes>"
      ]
     },
     "metadata": {},
     "output_type": "display_data"
    }
   ],
   "source": [
    "sns.set_style(\"whitegrid\")\n",
    "sns.set_palette(\"pastel\")\n",
    "\n",
    "fig, ax = plt.subplots(figsize=(10,6))\n",
    "sns.lineplot(x=i_s[0], y=averages_cost, ax=ax, lw=2, marker=\"o\", markersize=8, label='Average Cost', color='royalblue')\n",
    "\n",
    "ax.set_title('Cost Function for Number of Iterations', fontsize=16, fontweight='bold')\n",
    "ax.set_xlabel('Iteration', fontsize=14)\n",
    "ax.set_ylabel('Cost Function', fontsize=14)\n",
    "\n",
    "plt.tight_layout()\n",
    "plt.show()"
   ]
  },
  {
   "cell_type": "code",
   "execution_count": 678,
   "id": "36d9c523",
   "metadata": {},
   "outputs": [
    {
     "data": {
      "image/png": "[encoded data removed]",
      "text/plain": [
       "<Figure size 720x432 with 1 Axes>"
      ]
     },
     "metadata": {},
     "output_type": "display_data"
    }
   ],
   "source": [
    "sns.set_style(\"whitegrid\")\n",
    "sns.set_palette(\"pastel\")\n",
    "\n",
    "fig, ax = plt.subplots(figsize=(10,6))\n",
    "sns.lineplot(x=i_s[0], y=averages_step_size, ax=ax, lw=2, marker=\"o\", markersize=8, label='Average Cost', color='royalblue')\n",
    "\n",
    "ax.set_title('Step Size for Number of Iterations', fontsize=16, fontweight='bold')\n",
    "ax.set_xlabel('Iteration', fontsize=14)\n",
    "ax.set_ylabel('Step Size', fontsize=14)\n",
    "\n",
    "plt.tight_layout()\n",
    "plt.show()"
   ]
  },
  {
   "cell_type": "code",
   "execution_count": 835,
   "id": "3e3ed35b",
   "metadata": {
    "scrolled": false
   },
   "outputs": [
    {
     "data": {
      "image/png": "[encoded data removed]",
      "text/plain": [
       "<Figure size 720x432 with 1 Axes>"
      ]
     },
     "metadata": {},
     "output_type": "display_data"
    }
   ],
   "source": [
    "sns.set_style(\"whitegrid\")\n",
    "sns.set_palette(\"pastel\")\n",
    "\n",
    "fig, ax = plt.subplots(figsize=(10,6))\n",
    "\n",
    "sns.histplot(x, bins=100, ax=ax, kde=False, color='skyblue', edgecolor='black')\n",
    "\n",
    "ax.set_xlim([-180, 180])\n",
    "ax.set_title(f'Distribution of X Values at {p} Iterations', fontsize=16, fontweight='bold')\n",
    "ax.set_xlabel('X Values', fontsize=14)\n",
    "ax.set_ylabel('Frequency', fontsize=14)\n",
    "\n",
    "# Show the plot\n",
    "plt.tight_layout()\n",
    "plt.show()"
   ]
  },
  {
   "cell_type": "code",
   "execution_count": 836,
   "id": "b73d6773",
   "metadata": {
    "scrolled": false
   },
   "outputs": [
    {
     "data": {
      "image/png": "[encoded data removed]",
      "text/plain": [
       "<Figure size 720x432 with 1 Axes>"
      ]
     },
     "metadata": {},
     "output_type": "display_data"
    }
   ],
   "source": [
    "sns.set_style(\"whitegrid\")\n",
    "sns.set_palette(\"pastel\")\n",
    "\n",
    "fig, ax = plt.subplots(figsize=(10,6))\n",
    "\n",
    "sns.histplot(y, bins=100, ax=ax, kde=False, color='skyblue', edgecolor='black')\n",
    "\n",
    "ax.set_xlim([-90, 90])\n",
    "ax.set_title(f'Distribution of Y Values at {p} Iterations', fontsize=16, fontweight='bold')\n",
    "ax.set_xlabel('Y Values', fontsize=14)\n",
    "ax.set_ylabel('Frequency', fontsize=14)\n",
    "\n",
    "plt.tight_layout()\n",
    "plt.show()"
   ]
  },
  {
   "cell_type": "markdown",
   "id": "3c769f0e",
   "metadata": {},
   "source": [
    "## Coordinates"
   ]
  },
  {
   "cell_type": "code",
   "execution_count": 864,
   "id": "b878bd5e",
   "metadata": {},
   "outputs": [],
   "source": [
    "itr = [1, 5, 10, 20, 50, 100, 500, 1000, 1500]"
   ]
  },
  {
   "cell_type": "code",
   "execution_count": 865,
   "id": "c3733b75",
   "metadata": {},
   "outputs": [],
   "source": [
    "cities = [\n",
    "    \n",
    "    City(-122.4194, 37.7749, \"SF\"),\n",
    "    City(121.5654, 25.0330, \"TP\"),\n",
    "    City(126.9918, 37.5519, \"SL\"),\n",
    "    City(73.7537, 33.1480, \"MP\"),\n",
    "    \n",
    "]"
   ]
  },
  {
   "cell_type": "code",
   "execution_count": 866,
   "id": "86227f11",
   "metadata": {},
   "outputs": [],
   "source": [
    "actual = [126.9918, 37.5519]"
   ]
  },
  {
   "cell_type": "code",
   "execution_count": 867,
   "id": "1b90d960",
   "metadata": {},
   "outputs": [],
   "source": [
    "x_list = []\n",
    "y_list = []\n",
    "\n",
    "for i in itr:\n",
    "    \n",
    "    a = anealor_model(i)\n",
    "    \n",
    "    l, _, _, _ = a.anealor(cities)\n",
    "    \n",
    "    x_list.append(l[0])\n",
    "    y_list.append(l[1])"
   ]
  },
  {
   "cell_type": "code",
   "execution_count": 868,
   "id": "db6bc16c",
   "metadata": {},
   "outputs": [
    {
     "data": {
      "text/plain": [
       "124.31805658529889"
      ]
     },
     "execution_count": 868,
     "metadata": {},
     "output_type": "execute_result"
    }
   ],
   "source": [
    "np.median(x_list)"
   ]
  },
  {
   "cell_type": "code",
   "execution_count": 869,
   "id": "750de3e2",
   "metadata": {},
   "outputs": [
    {
     "data": {
      "text/plain": [
       "37.5705750010099"
      ]
     },
     "execution_count": 869,
     "metadata": {},
     "output_type": "execute_result"
    }
   ],
   "source": [
    "np.median(y_list[-1])"
   ]
  },
  {
   "cell_type": "code",
   "execution_count": 870,
   "id": "3b1574dc",
   "metadata": {},
   "outputs": [],
   "source": [
    "points = {\n",
    "    \"green\": [(37.5519, 126.9918)],\n",
    "    \"blue\": [(y_list[-1], x_list[-1])]\n",
    "}\n",
    "\n",
    "points['#FF0000'] = list(zip(y_list[:2], x_list[:2]))\n",
    "points['#FF6666'] = list(zip(y_list[2:4], x_list[2:4]))\n",
    "points['#FFAAAA'] = list(zip(y_list[4:6], x_list[4:6]))\n",
    "points['#FFDDDD'] = list(zip(y_list[6:8], x_list[6:8]))"
   ]
  },
  {
   "cell_type": "code",
   "execution_count": 871,
   "id": "2435c8e2",
   "metadata": {
    "scrolled": false
   },
   "outputs": [
    {
     "data": {
      "text/html": [
       "<div style=\"width:100%;\"><div style=\"position:relative;width:100%;height:0;padding-bottom:60%;\"><span style=\"color:#565656\">Make this Notebook Trusted to load map: File -> Trust Notebook</span><iframe srcdoc=\"&lt;!DOCTYPE html&gt;\n",
       "&lt;html&gt;\n",
       "&lt;head&gt;\n",
       "    \n",
       "    &lt;meta http-equiv=&quot;content-type&quot; content=&quot;text/html; charset=UTF-8&quot; /&gt;\n",
       "    \n",
       "        &lt;script&gt;\n",
       "            L_NO_TOUCH = false;\n",
       "            L_DISABLE_3D = false;\n",
       "        &lt;/script&gt;\n",
       "    \n",
       "    &lt;style&gt;html, body {width: 100%;height: 100%;margin: 0;padding: 0;}&lt;/style&gt;\n",
       "    &lt;style&gt;#map {position:absolute;top:0;bottom:0;right:0;left:0;}&lt;/style&gt;\n",
       "    &lt;script src=&quot;https://cdn.jsdelivr.net/npm/leaflet@1.9.3/dist/leaflet.js&quot;&gt;&lt;/script&gt;\n",
       "    &lt;script src=&quot;https://code.jquery.com/jquery-1.12.4.min.js&quot;&gt;&lt;/script&gt;\n",
       "    &lt;script src=&quot;https://cdn.jsdelivr.net/npm/bootstrap@5.2.2/dist/js/bootstrap.bundle.min.js&quot;&gt;&lt;/script&gt;\n",
       "    &lt;script src=&quot;https://cdnjs.cloudflare.com/ajax/libs/Leaflet.awesome-markers/2.0.2/leaflet.awesome-markers.js&quot;&gt;&lt;/script&gt;\n",
       "    &lt;link rel=&quot;stylesheet&quot; href=&quot;https://cdn.jsdelivr.net/npm/leaflet@1.9.3/dist/leaflet.css&quot;/&gt;\n",
       "    &lt;link rel=&quot;stylesheet&quot; href=&quot;https://cdn.jsdelivr.net/npm/bootstrap@5.2.2/dist/css/bootstrap.min.css&quot;/&gt;\n",
       "    &lt;link rel=&quot;stylesheet&quot; href=&quot;https://netdna.bootstrapcdn.com/bootstrap/3.0.0/css/bootstrap.min.css&quot;/&gt;\n",
       "    &lt;link rel=&quot;stylesheet&quot; href=&quot;https://cdn.jsdelivr.net/npm/@fortawesome/fontawesome-free@6.2.0/css/all.min.css&quot;/&gt;\n",
       "    &lt;link rel=&quot;stylesheet&quot; href=&quot;https://cdnjs.cloudflare.com/ajax/libs/Leaflet.awesome-markers/2.0.2/leaflet.awesome-markers.css&quot;/&gt;\n",
       "    &lt;link rel=&quot;stylesheet&quot; href=&quot;https://cdn.jsdelivr.net/gh/python-visualization/folium/folium/templates/leaflet.awesome.rotate.min.css&quot;/&gt;\n",
       "    \n",
       "            &lt;meta name=&quot;viewport&quot; content=&quot;width=device-width,\n",
       "                initial-scale=1.0, maximum-scale=1.0, user-scalable=no&quot; /&gt;\n",
       "            &lt;style&gt;\n",
       "                #map_d3d04af438322b2a1e98ccc977d0c5a6 {\n",
       "                    position: relative;\n",
       "                    width: 100.0%;\n",
       "                    height: 100.0%;\n",
       "                    left: 0.0%;\n",
       "                    top: 0.0%;\n",
       "                }\n",
       "                .leaflet-container { font-size: 1rem; }\n",
       "            &lt;/style&gt;\n",
       "        \n",
       "&lt;/head&gt;\n",
       "&lt;body&gt;\n",
       "    \n",
       "    \n",
       "            &lt;div class=&quot;folium-map&quot; id=&quot;map_d3d04af438322b2a1e98ccc977d0c5a6&quot; &gt;&lt;/div&gt;\n",
       "        \n",
       "&lt;/body&gt;\n",
       "&lt;script&gt;\n",
       "    \n",
       "    \n",
       "            var map_d3d04af438322b2a1e98ccc977d0c5a6 = L.map(\n",
       "                &quot;map_d3d04af438322b2a1e98ccc977d0c5a6&quot;,\n",
       "                {\n",
       "                    center: [0, 0],\n",
       "                    crs: L.CRS.EPSG3857,\n",
       "                    zoom: 1,\n",
       "                    zoomControl: true,\n",
       "                    preferCanvas: false,\n",
       "                }\n",
       "            );\n",
       "\n",
       "            \n",
       "\n",
       "        \n",
       "    \n",
       "            var tile_layer_e6a652e382113bf37f780e68beb703af = L.tileLayer(\n",
       "                &quot;https://{s}.tile.openstreetmap.org/{z}/{x}/{y}.png&quot;,\n",
       "                {&quot;attribution&quot;: &quot;Data by \\u0026copy; \\u003ca target=\\&quot;_blank\\&quot; href=\\&quot;http://openstreetmap.org\\&quot;\\u003eOpenStreetMap\\u003c/a\\u003e, under \\u003ca target=\\&quot;_blank\\&quot; href=\\&quot;http://www.openstreetmap.org/copyright\\&quot;\\u003eODbL\\u003c/a\\u003e.&quot;, &quot;detectRetina&quot;: false, &quot;maxNativeZoom&quot;: 18, &quot;maxZoom&quot;: 18, &quot;minZoom&quot;: 0, &quot;noWrap&quot;: false, &quot;opacity&quot;: 1, &quot;subdomains&quot;: &quot;abc&quot;, &quot;tms&quot;: false}\n",
       "            ).addTo(map_d3d04af438322b2a1e98ccc977d0c5a6);\n",
       "        \n",
       "    \n",
       "            var circle_marker_f42ac7024383a011e68b96351984cb27 = L.circleMarker(\n",
       "                [37.5519, 126.9918],\n",
       "                {&quot;bubblingMouseEvents&quot;: true, &quot;color&quot;: &quot;green&quot;, &quot;dashArray&quot;: null, &quot;dashOffset&quot;: null, &quot;fill&quot;: true, &quot;fillColor&quot;: &quot;green&quot;, &quot;fillOpacity&quot;: 0.2, &quot;fillRule&quot;: &quot;evenodd&quot;, &quot;lineCap&quot;: &quot;round&quot;, &quot;lineJoin&quot;: &quot;round&quot;, &quot;opacity&quot;: 1.0, &quot;radius&quot;: 5, &quot;stroke&quot;: true, &quot;weight&quot;: 3}\n",
       "            ).addTo(map_d3d04af438322b2a1e98ccc977d0c5a6);\n",
       "        \n",
       "    \n",
       "            var circle_marker_32ca2eb7058c1780ef3843294619b2a4 = L.circleMarker(\n",
       "                [37.5705750010099, 127.01738719065855],\n",
       "                {&quot;bubblingMouseEvents&quot;: true, &quot;color&quot;: &quot;blue&quot;, &quot;dashArray&quot;: null, &quot;dashOffset&quot;: null, &quot;fill&quot;: true, &quot;fillColor&quot;: &quot;blue&quot;, &quot;fillOpacity&quot;: 0.2, &quot;fillRule&quot;: &quot;evenodd&quot;, &quot;lineCap&quot;: &quot;round&quot;, &quot;lineJoin&quot;: &quot;round&quot;, &quot;opacity&quot;: 1.0, &quot;radius&quot;: 5, &quot;stroke&quot;: true, &quot;weight&quot;: 3}\n",
       "            ).addTo(map_d3d04af438322b2a1e98ccc977d0c5a6);\n",
       "        \n",
       "    \n",
       "            var circle_marker_c66b3ec9bf96dea6e9d9ffd53efff2c0 = L.circleMarker(\n",
       "                [-6.960542096601979, -10.411712423591387],\n",
       "                {&quot;bubblingMouseEvents&quot;: true, &quot;color&quot;: &quot;#FF0000&quot;, &quot;dashArray&quot;: null, &quot;dashOffset&quot;: null, &quot;fill&quot;: true, &quot;fillColor&quot;: &quot;#FF0000&quot;, &quot;fillOpacity&quot;: 0.2, &quot;fillRule&quot;: &quot;evenodd&quot;, &quot;lineCap&quot;: &quot;round&quot;, &quot;lineJoin&quot;: &quot;round&quot;, &quot;opacity&quot;: 1.0, &quot;radius&quot;: 5, &quot;stroke&quot;: true, &quot;weight&quot;: 3}\n",
       "            ).addTo(map_d3d04af438322b2a1e98ccc977d0c5a6);\n",
       "        \n",
       "    \n",
       "            var circle_marker_e221dccfc42db67c7dc7bb82e2fe5917 = L.circleMarker(\n",
       "                [89.07872587974404, 0.8490811742005979],\n",
       "                {&quot;bubblingMouseEvents&quot;: true, &quot;color&quot;: &quot;#FF0000&quot;, &quot;dashArray&quot;: null, &quot;dashOffset&quot;: null, &quot;fill&quot;: true, &quot;fillColor&quot;: &quot;#FF0000&quot;, &quot;fillOpacity&quot;: 0.2, &quot;fillRule&quot;: &quot;evenodd&quot;, &quot;lineCap&quot;: &quot;round&quot;, &quot;lineJoin&quot;: &quot;round&quot;, &quot;opacity&quot;: 1.0, &quot;radius&quot;: 5, &quot;stroke&quot;: true, &quot;weight&quot;: 3}\n",
       "            ).addTo(map_d3d04af438322b2a1e98ccc977d0c5a6);\n",
       "        \n",
       "    \n",
       "            var circle_marker_da62861e724cd611db005dc96aac2105 = L.circleMarker(\n",
       "                [37.67801525236368, 120.18519329395686],\n",
       "                {&quot;bubblingMouseEvents&quot;: true, &quot;color&quot;: &quot;#FF6666&quot;, &quot;dashArray&quot;: null, &quot;dashOffset&quot;: null, &quot;fill&quot;: true, &quot;fillColor&quot;: &quot;#FF6666&quot;, &quot;fillOpacity&quot;: 0.2, &quot;fillRule&quot;: &quot;evenodd&quot;, &quot;lineCap&quot;: &quot;round&quot;, &quot;lineJoin&quot;: &quot;round&quot;, &quot;opacity&quot;: 1.0, &quot;radius&quot;: 5, &quot;stroke&quot;: true, &quot;weight&quot;: 3}\n",
       "            ).addTo(map_d3d04af438322b2a1e98ccc977d0c5a6);\n",
       "        \n",
       "    \n",
       "            var circle_marker_a20e982b6b463524d722036f6e46f069 = L.circleMarker(\n",
       "                [-17.53556659014172, 163.84253477268507],\n",
       "                {&quot;bubblingMouseEvents&quot;: true, &quot;color&quot;: &quot;#FF6666&quot;, &quot;dashArray&quot;: null, &quot;dashOffset&quot;: null, &quot;fill&quot;: true, &quot;fillColor&quot;: &quot;#FF6666&quot;, &quot;fillOpacity&quot;: 0.2, &quot;fillRule&quot;: &quot;evenodd&quot;, &quot;lineCap&quot;: &quot;round&quot;, &quot;lineJoin&quot;: &quot;round&quot;, &quot;opacity&quot;: 1.0, &quot;radius&quot;: 5, &quot;stroke&quot;: true, &quot;weight&quot;: 3}\n",
       "            ).addTo(map_d3d04af438322b2a1e98ccc977d0c5a6);\n",
       "        \n",
       "    \n",
       "            var circle_marker_f4b575b0ac31e7fce4940e4ead014ac4 = L.circleMarker(\n",
       "                [29.123757732657744, 124.9963834787781],\n",
       "                {&quot;bubblingMouseEvents&quot;: true, &quot;color&quot;: &quot;#FFAAAA&quot;, &quot;dashArray&quot;: null, &quot;dashOffset&quot;: null, &quot;fill&quot;: true, &quot;fillColor&quot;: &quot;#FFAAAA&quot;, &quot;fillOpacity&quot;: 0.2, &quot;fillRule&quot;: &quot;evenodd&quot;, &quot;lineCap&quot;: &quot;round&quot;, &quot;lineJoin&quot;: &quot;round&quot;, &quot;opacity&quot;: 1.0, &quot;radius&quot;: 5, &quot;stroke&quot;: true, &quot;weight&quot;: 3}\n",
       "            ).addTo(map_d3d04af438322b2a1e98ccc977d0c5a6);\n",
       "        \n",
       "    \n",
       "            var circle_marker_33d2b30542da932737429244c03a3a81 = L.circleMarker(\n",
       "                [37.579455135771816, 124.31805658529889],\n",
       "                {&quot;bubblingMouseEvents&quot;: true, &quot;color&quot;: &quot;#FFAAAA&quot;, &quot;dashArray&quot;: null, &quot;dashOffset&quot;: null, &quot;fill&quot;: true, &quot;fillColor&quot;: &quot;#FFAAAA&quot;, &quot;fillOpacity&quot;: 0.2, &quot;fillRule&quot;: &quot;evenodd&quot;, &quot;lineCap&quot;: &quot;round&quot;, &quot;lineJoin&quot;: &quot;round&quot;, &quot;opacity&quot;: 1.0, &quot;radius&quot;: 5, &quot;stroke&quot;: true, &quot;weight&quot;: 3}\n",
       "            ).addTo(map_d3d04af438322b2a1e98ccc977d0c5a6);\n",
       "        \n",
       "    \n",
       "            var circle_marker_f70244ade79cd1bb4446762f11429b99 = L.circleMarker(\n",
       "                [30.215909521879553, 124.31262739735655],\n",
       "                {&quot;bubblingMouseEvents&quot;: true, &quot;color&quot;: &quot;#FFDDDD&quot;, &quot;dashArray&quot;: null, &quot;dashOffset&quot;: null, &quot;fill&quot;: true, &quot;fillColor&quot;: &quot;#FFDDDD&quot;, &quot;fillOpacity&quot;: 0.2, &quot;fillRule&quot;: &quot;evenodd&quot;, &quot;lineCap&quot;: &quot;round&quot;, &quot;lineJoin&quot;: &quot;round&quot;, &quot;opacity&quot;: 1.0, &quot;radius&quot;: 5, &quot;stroke&quot;: true, &quot;weight&quot;: 3}\n",
       "            ).addTo(map_d3d04af438322b2a1e98ccc977d0c5a6);\n",
       "        \n",
       "    \n",
       "            var circle_marker_48295f088b049df3b64b29e67cceb902 = L.circleMarker(\n",
       "                [47.064541878792255, 128.02677226282628],\n",
       "                {&quot;bubblingMouseEvents&quot;: true, &quot;color&quot;: &quot;#FFDDDD&quot;, &quot;dashArray&quot;: null, &quot;dashOffset&quot;: null, &quot;fill&quot;: true, &quot;fillColor&quot;: &quot;#FFDDDD&quot;, &quot;fillOpacity&quot;: 0.2, &quot;fillRule&quot;: &quot;evenodd&quot;, &quot;lineCap&quot;: &quot;round&quot;, &quot;lineJoin&quot;: &quot;round&quot;, &quot;opacity&quot;: 1.0, &quot;radius&quot;: 5, &quot;stroke&quot;: true, &quot;weight&quot;: 3}\n",
       "            ).addTo(map_d3d04af438322b2a1e98ccc977d0c5a6);\n",
       "        \n",
       "&lt;/script&gt;\n",
       "&lt;/html&gt;\" style=\"position:absolute;width:100%;height:100%;left:0;top:0;border:none !important;\" allowfullscreen webkitallowfullscreen mozallowfullscreen></iframe></div></div>"
      ],
      "text/plain": [
       "<folium.folium.Map at 0x7fcee14f06a0>"
      ]
     },
     "execution_count": 871,
     "metadata": {},
     "output_type": "execute_result"
    }
   ],
   "source": [
    "m = folium.Map()\n",
    "\n",
    "for color, coords in points.items():\n",
    "    for coord in coords:\n",
    "        folium.CircleMarker(\n",
    "            location=coord,\n",
    "            radius=5,\n",
    "            color=color,\n",
    "            fill=True,\n",
    "            fill_color=color,\n",
    "        ).add_to(m)\n",
    "\n",
    "m"
   ]
  },
  {
   "cell_type": "markdown",
   "id": "f61c2034",
   "metadata": {},
   "source": [
    "## Accuracy by Balls"
   ]
  },
  {
   "cell_type": "code",
   "execution_count": 328,
   "id": "74fedf5b",
   "metadata": {},
   "outputs": [],
   "source": [
    "z = anealor_model(1500)"
   ]
  },
  {
   "cell_type": "code",
   "execution_count": 329,
   "id": "20916206",
   "metadata": {},
   "outputs": [],
   "source": [
    "cities = [\n",
    "    \n",
    "    City(-122.4194, 37.7749, \"SF\"),\n",
    "    City(121.5654, 25.0330, \"TP\"),\n",
    "    City(106.8456, -6.2088, \"JK\"),\n",
    "    City(73.0479, 33.6844, \"IS\"),\n",
    "]"
   ]
  },
  {
   "cell_type": "code",
   "execution_count": 330,
   "id": "8579441f",
   "metadata": {},
   "outputs": [],
   "source": [
    "exact_ans = [103.574123, 39.030655]\n",
    "place = City(exact_ans[0], exact_ans[1], \"x\")"
   ]
  },
  {
   "cell_type": "code",
   "execution_count": 331,
   "id": "9be97264",
   "metadata": {
    "scrolled": true
   },
   "outputs": [],
   "source": [
    "balls = [1, 2, 3, 4, 5, 8, 10, 15, 25, 50, 100, 200]\n",
    "avg_err = []\n",
    "std_err = []"
   ]
  },
  {
   "cell_type": "code",
   "execution_count": 332,
   "id": "05cb1fb0",
   "metadata": {
    "scrolled": false
   },
   "outputs": [
    {
     "name": "stdout",
     "output_type": "stream",
     "text": [
      "✅\n",
      "✅\n",
      "✅\n",
      "✅\n",
      "✅\n",
      "✅\n",
      "✅\n",
      "✅\n",
      "✅\n",
      "✅\n",
      "✅\n",
      "✅\n"
     ]
    }
   ],
   "source": [
    "for ball in balls:\n",
    "    \n",
    "    errs = []\n",
    "    \n",
    "    for i in range(50):\n",
    "\n",
    "        x = []\n",
    "        y = []\n",
    "\n",
    "        for i in range(ball):\n",
    "\n",
    "            k, _, _, _ = z.anealor(cities)\n",
    "            x.append(k[0])\n",
    "            y.append(k[1])\n",
    "        \n",
    "        avg_x = np.median(x)\n",
    "        avg_y = np.median(y)\n",
    "        \n",
    "        errs.append(z.err_pc(City(avg_x, avg_y, \"0\"), place, cities))\n",
    "        \n",
    "    avg_err.append(np.mean(errs))\n",
    "    std_err.append(np.std(errs))\n",
    "    print(\"✅\")"
   ]
  },
  {
   "cell_type": "code",
   "execution_count": 333,
   "id": "7ed1e6cf",
   "metadata": {
    "scrolled": false
   },
   "outputs": [
    {
     "name": "stdout",
     "output_type": "stream",
     "text": [
      "[32.968865244471544, 91.26871637161852, 24.620577894888665, 73.24082667978176, 20.922609603407455, 53.51930491062318, 38.297201373185565, 8.140405711247077, 7.1021866420155835, 5.167052917697049, 2.4104394151702087, 2.0936701374802684]\n"
     ]
    }
   ],
   "source": [
    "print(avg_err)"
   ]
  },
  {
   "cell_type": "code",
   "execution_count": 335,
   "id": "e2d47606",
   "metadata": {
    "scrolled": true
   },
   "outputs": [
    {
     "data": {
      "image/png": "[encoded data removed]",
      "text/plain": [
       "<Figure size 720x432 with 1 Axes>"
      ]
     },
     "metadata": {},
     "output_type": "display_data"
    }
   ],
   "source": [
    "corr_coeff, _ = pearsonr(balls, avg_err)\n",
    "\n",
    "sns.set_theme()\n",
    "plt.figure(figsize=(10, 6))\n",
    "\n",
    "ax = sns.scatterplot(x=balls, y=avg_err)\n",
    "sns.regplot(x=balls, y=avg_err, logx=True, scatter_kws={'s':100}, line_kws={'color':'red'})\n",
    "\n",
    "ax.set_xscale('log')\n",
    "plt.title(f'Trials vs. Average Percentage Error / % (r = {corr_coeff:.2f})')\n",
    "plt.xlabel(\"Number of Trials\")\n",
    "plt.ylabel(\"Average Percentage Error / %\")\n",
    "\n",
    "plt.show()"
   ]
  },
  {
   "cell_type": "markdown",
   "id": "35a4fbb3",
   "metadata": {},
   "source": [
    "## Error by cities"
   ]
  },
  {
   "cell_type": "markdown",
   "id": "d98164bc",
   "metadata": {},
   "source": [
    "cities = []\n",
    "\n",
    "for i in range(20):\n",
    "    \n",
    "    cities.append(City(rd.randint(-180, 180), rd.randint(-90, 90), f\"{i}\"))"
   ]
  },
  {
   "cell_type": "code",
   "execution_count": 383,
   "id": "0af6a25b",
   "metadata": {},
   "outputs": [],
   "source": [
    "z = anealor_model(1500)"
   ]
  },
  {
   "cell_type": "code",
   "execution_count": 384,
   "id": "9a636e53",
   "metadata": {},
   "outputs": [],
   "source": [
    "cities = [\n",
    "\n",
    "    City(107, 25, \"o\"),\n",
    "    City(69, -74, \"o\"),\n",
    "    City(87, 32, \"o\"),\n",
    "    City(165, 75, \"o\"),\n",
    "    City(168, 64, \"o\"),\n",
    "    \n",
    "    City(114, -18, \"o\"),\n",
    "    City(15, 34, \"o\"),\n",
    "    City(59, 80, \"o\"),\n",
    "    City(-26, -69, \"o\"),\n",
    "    City(-3, -73, \"o\"),\n",
    "    \n",
    "    City(151, -48, \"o\"),\n",
    "    City(-29, 89, \"o\"),\n",
    "    City(-180, -28, \"o\"),\n",
    "    City(-53, -29, \"o\"),\n",
    "    City(-32, -47, \"o\"),\n",
    "    \n",
    "    City(177, -86, \"o\"),\n",
    "    City(-163, 57, \"o\"),\n",
    "    City(-5, -65, \"o\"),\n",
    "    City(-173, 67, \"o\"),\n",
    "    City(108, -73, \"o\"),\n",
    "    \n",
    "]"
   ]
  },
  {
   "cell_type": "code",
   "execution_count": 385,
   "id": "113b4e75",
   "metadata": {
    "scrolled": true
   },
   "outputs": [
    {
     "name": "stdout",
     "output_type": "stream",
     "text": [
      "25 107 o\n",
      "-74 69 o\n",
      "32 87 o\n",
      "75 165 o\n",
      "64 168 o\n",
      "-18 114 o\n",
      "34 15 o\n",
      "80 59 o\n",
      "-69 -26 o\n",
      "-73 -3 o\n",
      "-48 151 o\n",
      "89 -29 o\n",
      "-28 -180 o\n",
      "-29 -53 o\n",
      "-47 -32 o\n",
      "-86 177 o\n",
      "57 -163 o\n",
      "-65 -5 o\n",
      "67 -173 o\n",
      "-73 108 o\n"
     ]
    }
   ],
   "source": [
    "for city in cities:\n",
    "    \n",
    "    print(city.y, city.x, city.name)"
   ]
  },
  {
   "cell_type": "code",
   "execution_count": 386,
   "id": "a6f3912e",
   "metadata": {
    "scrolled": true
   },
   "outputs": [],
   "source": [
    "cor_anw = [\n",
    "    [107, 25],\n",
    "    [98.410772, -25.36333],\n",
    "    [101.200452, 23.043034],\n",
    "    [107, 25],\n",
    "    [104.118496, 31.708478],\n",
    "    [107, 25],\n",
    "    [97.144249, 30.854054],\n",
    "    [93.959408, 36.51733],\n",
    "    [87, 32],\n",
    "    [87, 32],\n",
    "    [99.465664, 20.591755],\n",
    "    [95.424597, 27.731896],\n",
    "    [107, 25],\n",
    "    [98.762677, 21.647639],\n",
    "    [114, -18],\n",
    "    [111.779721, -19.646877],\n",
    "    [114, -18],\n",
    "    [113.233078, -18.832778],\n",
    "    [114, -18],\n",
    "    [113.999999, -18.000002]\n",
    "]"
   ]
  },
  {
   "cell_type": "code",
   "execution_count": 387,
   "id": "16e6175c",
   "metadata": {},
   "outputs": [],
   "source": [
    "err_list = []"
   ]
  },
  {
   "cell_type": "code",
   "execution_count": 388,
   "id": "b0ca2746",
   "metadata": {
    "scrolled": false
   },
   "outputs": [
    {
     "name": "stdout",
     "output_type": "stream",
     "text": [
      "✅\n",
      "99.72462294484049\n",
      "✅\n",
      "-23.544221295616744\n",
      "✅\n",
      "73.1260325400902\n",
      "✅\n",
      "99.35961264781426\n",
      "✅\n",
      "103.88677858156578\n",
      "✅\n",
      "107.2383715604747\n",
      "✅\n",
      "92.89226778205617\n",
      "✅\n",
      "95.32972959351055\n",
      "✅\n",
      "88.61969395289142\n",
      "✅\n",
      "82.65721206926834\n",
      "✅\n",
      "72.66328996553904\n",
      "✅\n",
      "93.62896000955871\n",
      "✅\n",
      "105.91784425429191\n",
      "✅\n",
      "-51.70902356123761\n",
      "✅\n",
      "-42.473355216329\n",
      "✅\n",
      "-44.325158177096\n",
      "✅\n",
      "-72.87283157957708\n",
      "✅\n",
      "-48.48799542344082\n",
      "✅\n",
      "-62.054397340449384\n",
      "✅\n",
      "-45.6382685967115\n"
     ]
    }
   ],
   "source": [
    "for i in range(20):\n",
    "    \n",
    "    x_list = []\n",
    "    y_list = []\n",
    "    \n",
    "    for j in range(1000):\n",
    "        \n",
    "        l, _, _, _ = z.anealor(cities[:i+1])\n",
    "        x_list.append(l[0])\n",
    "        y_list.append(l[1])\n",
    "        \n",
    "    fin_x = np.median(x_list)\n",
    "    fin_y = np.median(y_list)\n",
    "    \n",
    "    err = z.err_pc(City(fin_x, fin_y, \"a\"), City(cor_anw[i][0], cor_anw[i][1], \"b\"), cities[:i+1])\n",
    "    err_list.append(err)\n",
    "    \n",
    "    print(\"✅\")\n",
    "    print(fin_x)"
   ]
  },
  {
   "cell_type": "code",
   "execution_count": 389,
   "id": "073a7145",
   "metadata": {},
   "outputs": [
    {
     "name": "stdout",
     "output_type": "stream",
     "text": [
      "[0, 99.98515706902606, 19.24181843006292, 0.5979143966457462, 0.002817247986018468, 0.1091278997477132, 0.13655214141086622, 0.0348284539885429, 0.06588105069677685, 0.7370882493663249, 4.060914320356011, 0.020735372339822675, 0.04441207252635413, 34.509723321570185, 13.733776450370746, 8.930061142360216, 24.46301982334303, 6.513800044590994, 10.249300886419217, 7.99413897026702]\n"
     ]
    }
   ],
   "source": [
    "print(err_list)"
   ]
  },
  {
   "cell_type": "code",
   "execution_count": 390,
   "id": "8cf9b745",
   "metadata": {},
   "outputs": [],
   "source": [
    "balls = [1, 2, 3, 4, 5, 6, 7, 8, 9, 10, 11, 12, 13, 14, 15, 16, 17, 18, 19, 20]"
   ]
  },
  {
   "cell_type": "code",
   "execution_count": 392,
   "id": "82fef078",
   "metadata": {
    "scrolled": false
   },
   "outputs": [
    {
     "data": {
      "image/png": "[encoded data removed]",
      "text/plain": [
       "<Figure size 720x432 with 1 Axes>"
      ]
     },
     "metadata": {},
     "output_type": "display_data"
    }
   ],
   "source": [
    "corr_coeff, _ = pearsonr(balls, err_list)\n",
    "\n",
    "sns.set_theme()\n",
    "plt.figure(figsize=(10, 6))\n",
    "ax = sns.scatterplot(x=balls, y=err_list)\n",
    "sns.regplot(x=balls, y=err_list, logx=True, scatter_kws={'s':100}, line_kws={'color':'red'})\n",
    "\n",
    "plt.xlabel(\"Number of Cities\")\n",
    "plt.ylabel(\"Average Percentage Error / %\")\n",
    "\n",
    "plt.title(f'Number of Cities vs. Average Percentage Error / % (r = {corr_coeff:.2f})')\n",
    "\n",
    "plt.show()"
   ]
  },
  {
   "cell_type": "markdown",
   "id": "2bd554d3",
   "metadata": {},
   "source": [
    "## Scaling by cities"
   ]
  },
  {
   "cell_type": "code",
   "execution_count": 396,
   "id": "93777d2a",
   "metadata": {},
   "outputs": [],
   "source": [
    "time_list = []\n",
    "cities = []"
   ]
  },
  {
   "cell_type": "code",
   "execution_count": 397,
   "id": "a08c6206",
   "metadata": {
    "scrolled": true
   },
   "outputs": [],
   "source": [
    "for i in range(50):\n",
    "    \n",
    "    t_list = []\n",
    "    for j in range(10):\n",
    "        cities.append(City(rd.randint(-180, 180), rd.randint(-90, 90), \"x\"))\n",
    "    \n",
    "    for j in range(30):\n",
    "        \n",
    "        t = time.time()\n",
    "        z.anealor(cities)\n",
    "        del_t = time.time() - t\n",
    "        \n",
    "        t_list.append(del_t)\n",
    "        \n",
    "    time_list.append(np.mean(t_list))"
   ]
  },
  {
   "cell_type": "code",
   "execution_count": 398,
   "id": "2df6e9cf",
   "metadata": {},
   "outputs": [],
   "source": [
    "i_list = []\n",
    "\n",
    "for i in range(50):\n",
    "    \n",
    "    i_list.append(i*10)"
   ]
  },
  {
   "cell_type": "code",
   "execution_count": 400,
   "id": "2bbcacfd",
   "metadata": {
    "scrolled": false
   },
   "outputs": [
    {
     "data": {
      "image/png": "[encoded data removed]",
      "text/plain": [
       "<Figure size 432x288 with 1 Axes>"
      ]
     },
     "metadata": {},
     "output_type": "display_data"
    }
   ],
   "source": [
    "sns.set_style(\"whitegrid\")\n",
    "sns.lineplot(x=i_list, y=time_list)\n",
    "plt.title(\"Function Runtime vs Number of Cities\")\n",
    "plt.xlabel(\"Number of Cities\")\n",
    "plt.ylabel(\"Function Runtime /s\")\n",
    "plt.show()"
   ]
  },
  {
   "cell_type": "markdown",
   "id": "e6b3958e",
   "metadata": {},
   "source": [
    "## Minerva HQ"
   ]
  },
  {
   "cell_type": "code",
   "execution_count": 401,
   "id": "2a34c0fc",
   "metadata": {},
   "outputs": [],
   "source": [
    "z = anealor_model(1500)"
   ]
  },
  {
   "cell_type": "code",
   "execution_count": 402,
   "id": "e279eefa",
   "metadata": {},
   "outputs": [],
   "source": [
    "cities = [\n",
    "\n",
    "    City(-122.4194, 37.7749, \"o\"),\n",
    "    City(126.9780, 37.5665, \"o\"),\n",
    "    City(78.4867, 17.3850, \"o\"),\n",
    "    \n",
    "    City(13.4050, 52.5200, \"o\"),\n",
    "    City(-58.3816, -34.6037, \"o\"),\n",
    "    City(-0.1278, 51.5074, \"o\"),\n",
    "    \n",
    "    City(121.5654, 25.0330, \"o\"),\n",
    "    \n",
    "]"
   ]
  },
  {
   "cell_type": "code",
   "execution_count": 403,
   "id": "be367559",
   "metadata": {},
   "outputs": [
    {
     "name": "stdout",
     "output_type": "stream",
     "text": [
      "17.477076427822578\n",
      "56.89853269434947\n"
     ]
    }
   ],
   "source": [
    "x_list = []\n",
    "y_list = []\n",
    "\n",
    "for i in range(1000):\n",
    "    \n",
    "    k = z.anealor(cities)\n",
    "    x_list.append(k[0][0])\n",
    "    y_list.append(k[0][1])\n",
    "    \n",
    "print(np.median(x_list))\n",
    "print(np.median(y_list))"
   ]
  },
  {
   "cell_type": "code",
   "execution_count": 404,
   "id": "4c76cb80",
   "metadata": {},
   "outputs": [],
   "source": [
    "cy = []\n",
    "cx = []\n",
    "\n",
    "for city in cities:\n",
    "    \n",
    "    cy.append(city.y)\n",
    "    cx.append(city.x)"
   ]
  },
  {
   "cell_type": "code",
   "execution_count": 405,
   "id": "e1ff745a",
   "metadata": {},
   "outputs": [],
   "source": [
    "points = {\n",
    "    \"green\": [(54.615139, 14.429669)],\n",
    "    \"red\": [(np.median(y_list), np.median(x_list))]\n",
    "}\n",
    "\n",
    "points['black'] = list(zip(cy, cx))"
   ]
  },
  {
   "cell_type": "code",
   "execution_count": 406,
   "id": "6103f15e",
   "metadata": {
    "scrolled": false
   },
   "outputs": [
    {
     "data": {
      "text/html": [
       "<div style=\"width:100%;\"><div style=\"position:relative;width:100%;height:0;padding-bottom:60%;\"><span style=\"color:#565656\">Make this Notebook Trusted to load map: File -> Trust Notebook</span><iframe srcdoc=\"&lt;!DOCTYPE html&gt;\n",
       "&lt;html&gt;\n",
       "&lt;head&gt;\n",
       "    \n",
       "    &lt;meta http-equiv=&quot;content-type&quot; content=&quot;text/html; charset=UTF-8&quot; /&gt;\n",
       "    \n",
       "        &lt;script&gt;\n",
       "            L_NO_TOUCH = false;\n",
       "            L_DISABLE_3D = false;\n",
       "        &lt;/script&gt;\n",
       "    \n",
       "    &lt;style&gt;html, body {width: 100%;height: 100%;margin: 0;padding: 0;}&lt;/style&gt;\n",
       "    &lt;style&gt;#map {position:absolute;top:0;bottom:0;right:0;left:0;}&lt;/style&gt;\n",
       "    &lt;script src=&quot;https://cdn.jsdelivr.net/npm/leaflet@1.9.3/dist/leaflet.js&quot;&gt;&lt;/script&gt;\n",
       "    &lt;script src=&quot;https://code.jquery.com/jquery-1.12.4.min.js&quot;&gt;&lt;/script&gt;\n",
       "    &lt;script src=&quot;https://cdn.jsdelivr.net/npm/bootstrap@5.2.2/dist/js/bootstrap.bundle.min.js&quot;&gt;&lt;/script&gt;\n",
       "    &lt;script src=&quot;https://cdnjs.cloudflare.com/ajax/libs/Leaflet.awesome-markers/2.0.2/leaflet.awesome-markers.js&quot;&gt;&lt;/script&gt;\n",
       "    &lt;link rel=&quot;stylesheet&quot; href=&quot;https://cdn.jsdelivr.net/npm/leaflet@1.9.3/dist/leaflet.css&quot;/&gt;\n",
       "    &lt;link rel=&quot;stylesheet&quot; href=&quot;https://cdn.jsdelivr.net/npm/bootstrap@5.2.2/dist/css/bootstrap.min.css&quot;/&gt;\n",
       "    &lt;link rel=&quot;stylesheet&quot; href=&quot;https://netdna.bootstrapcdn.com/bootstrap/3.0.0/css/bootstrap.min.css&quot;/&gt;\n",
       "    &lt;link rel=&quot;stylesheet&quot; href=&quot;https://cdn.jsdelivr.net/npm/@fortawesome/fontawesome-free@6.2.0/css/all.min.css&quot;/&gt;\n",
       "    &lt;link rel=&quot;stylesheet&quot; href=&quot;https://cdnjs.cloudflare.com/ajax/libs/Leaflet.awesome-markers/2.0.2/leaflet.awesome-markers.css&quot;/&gt;\n",
       "    &lt;link rel=&quot;stylesheet&quot; href=&quot;https://cdn.jsdelivr.net/gh/python-visualization/folium/folium/templates/leaflet.awesome.rotate.min.css&quot;/&gt;\n",
       "    \n",
       "            &lt;meta name=&quot;viewport&quot; content=&quot;width=device-width,\n",
       "                initial-scale=1.0, maximum-scale=1.0, user-scalable=no&quot; /&gt;\n",
       "            &lt;style&gt;\n",
       "                #map_ebea94d38c80cd4d240fa03afc3d431e {\n",
       "                    position: relative;\n",
       "                    width: 100.0%;\n",
       "                    height: 100.0%;\n",
       "                    left: 0.0%;\n",
       "                    top: 0.0%;\n",
       "                }\n",
       "                .leaflet-container { font-size: 1rem; }\n",
       "            &lt;/style&gt;\n",
       "        \n",
       "&lt;/head&gt;\n",
       "&lt;body&gt;\n",
       "    \n",
       "    \n",
       "            &lt;div class=&quot;folium-map&quot; id=&quot;map_ebea94d38c80cd4d240fa03afc3d431e&quot; &gt;&lt;/div&gt;\n",
       "        \n",
       "&lt;/body&gt;\n",
       "&lt;script&gt;\n",
       "    \n",
       "    \n",
       "            var map_ebea94d38c80cd4d240fa03afc3d431e = L.map(\n",
       "                &quot;map_ebea94d38c80cd4d240fa03afc3d431e&quot;,\n",
       "                {\n",
       "                    center: [0, 0],\n",
       "                    crs: L.CRS.EPSG3857,\n",
       "                    zoom: 1,\n",
       "                    zoomControl: true,\n",
       "                    preferCanvas: false,\n",
       "                }\n",
       "            );\n",
       "\n",
       "            \n",
       "\n",
       "        \n",
       "    \n",
       "            var tile_layer_4cc657e4e0950aa0cc696254ac76f02f = L.tileLayer(\n",
       "                &quot;https://{s}.tile.openstreetmap.org/{z}/{x}/{y}.png&quot;,\n",
       "                {&quot;attribution&quot;: &quot;Data by \\u0026copy; \\u003ca target=\\&quot;_blank\\&quot; href=\\&quot;http://openstreetmap.org\\&quot;\\u003eOpenStreetMap\\u003c/a\\u003e, under \\u003ca target=\\&quot;_blank\\&quot; href=\\&quot;http://www.openstreetmap.org/copyright\\&quot;\\u003eODbL\\u003c/a\\u003e.&quot;, &quot;detectRetina&quot;: false, &quot;maxNativeZoom&quot;: 18, &quot;maxZoom&quot;: 18, &quot;minZoom&quot;: 0, &quot;noWrap&quot;: false, &quot;opacity&quot;: 1, &quot;subdomains&quot;: &quot;abc&quot;, &quot;tms&quot;: false}\n",
       "            ).addTo(map_ebea94d38c80cd4d240fa03afc3d431e);\n",
       "        \n",
       "    \n",
       "            var circle_marker_ee619f24d565ac157e535b5c91d33dae = L.circleMarker(\n",
       "                [54.615139, 14.429669],\n",
       "                {&quot;bubblingMouseEvents&quot;: true, &quot;color&quot;: &quot;green&quot;, &quot;dashArray&quot;: null, &quot;dashOffset&quot;: null, &quot;fill&quot;: true, &quot;fillColor&quot;: &quot;green&quot;, &quot;fillOpacity&quot;: 0.2, &quot;fillRule&quot;: &quot;evenodd&quot;, &quot;lineCap&quot;: &quot;round&quot;, &quot;lineJoin&quot;: &quot;round&quot;, &quot;opacity&quot;: 1.0, &quot;radius&quot;: 5, &quot;stroke&quot;: true, &quot;weight&quot;: 3}\n",
       "            ).addTo(map_ebea94d38c80cd4d240fa03afc3d431e);\n",
       "        \n",
       "    \n",
       "            var circle_marker_d85b965f481c92c0ef3906803db44462 = L.circleMarker(\n",
       "                [56.89853269434947, 17.477076427822578],\n",
       "                {&quot;bubblingMouseEvents&quot;: true, &quot;color&quot;: &quot;red&quot;, &quot;dashArray&quot;: null, &quot;dashOffset&quot;: null, &quot;fill&quot;: true, &quot;fillColor&quot;: &quot;red&quot;, &quot;fillOpacity&quot;: 0.2, &quot;fillRule&quot;: &quot;evenodd&quot;, &quot;lineCap&quot;: &quot;round&quot;, &quot;lineJoin&quot;: &quot;round&quot;, &quot;opacity&quot;: 1.0, &quot;radius&quot;: 5, &quot;stroke&quot;: true, &quot;weight&quot;: 3}\n",
       "            ).addTo(map_ebea94d38c80cd4d240fa03afc3d431e);\n",
       "        \n",
       "    \n",
       "            var circle_marker_19d80b4cbf67b26e4be65c2e4c95e7dc = L.circleMarker(\n",
       "                [37.7749, -122.4194],\n",
       "                {&quot;bubblingMouseEvents&quot;: true, &quot;color&quot;: &quot;black&quot;, &quot;dashArray&quot;: null, &quot;dashOffset&quot;: null, &quot;fill&quot;: true, &quot;fillColor&quot;: &quot;black&quot;, &quot;fillOpacity&quot;: 0.2, &quot;fillRule&quot;: &quot;evenodd&quot;, &quot;lineCap&quot;: &quot;round&quot;, &quot;lineJoin&quot;: &quot;round&quot;, &quot;opacity&quot;: 1.0, &quot;radius&quot;: 5, &quot;stroke&quot;: true, &quot;weight&quot;: 3}\n",
       "            ).addTo(map_ebea94d38c80cd4d240fa03afc3d431e);\n",
       "        \n",
       "    \n",
       "            var circle_marker_0f974cebb9bdd78e333252b5ceee8ef7 = L.circleMarker(\n",
       "                [37.5665, 126.978],\n",
       "                {&quot;bubblingMouseEvents&quot;: true, &quot;color&quot;: &quot;black&quot;, &quot;dashArray&quot;: null, &quot;dashOffset&quot;: null, &quot;fill&quot;: true, &quot;fillColor&quot;: &quot;black&quot;, &quot;fillOpacity&quot;: 0.2, &quot;fillRule&quot;: &quot;evenodd&quot;, &quot;lineCap&quot;: &quot;round&quot;, &quot;lineJoin&quot;: &quot;round&quot;, &quot;opacity&quot;: 1.0, &quot;radius&quot;: 5, &quot;stroke&quot;: true, &quot;weight&quot;: 3}\n",
       "            ).addTo(map_ebea94d38c80cd4d240fa03afc3d431e);\n",
       "        \n",
       "    \n",
       "            var circle_marker_7022d952726a59705b6b14c3a9628a78 = L.circleMarker(\n",
       "                [17.385, 78.4867],\n",
       "                {&quot;bubblingMouseEvents&quot;: true, &quot;color&quot;: &quot;black&quot;, &quot;dashArray&quot;: null, &quot;dashOffset&quot;: null, &quot;fill&quot;: true, &quot;fillColor&quot;: &quot;black&quot;, &quot;fillOpacity&quot;: 0.2, &quot;fillRule&quot;: &quot;evenodd&quot;, &quot;lineCap&quot;: &quot;round&quot;, &quot;lineJoin&quot;: &quot;round&quot;, &quot;opacity&quot;: 1.0, &quot;radius&quot;: 5, &quot;stroke&quot;: true, &quot;weight&quot;: 3}\n",
       "            ).addTo(map_ebea94d38c80cd4d240fa03afc3d431e);\n",
       "        \n",
       "    \n",
       "            var circle_marker_b4c89063de30258a405ebe58804185df = L.circleMarker(\n",
       "                [52.52, 13.405],\n",
       "                {&quot;bubblingMouseEvents&quot;: true, &quot;color&quot;: &quot;black&quot;, &quot;dashArray&quot;: null, &quot;dashOffset&quot;: null, &quot;fill&quot;: true, &quot;fillColor&quot;: &quot;black&quot;, &quot;fillOpacity&quot;: 0.2, &quot;fillRule&quot;: &quot;evenodd&quot;, &quot;lineCap&quot;: &quot;round&quot;, &quot;lineJoin&quot;: &quot;round&quot;, &quot;opacity&quot;: 1.0, &quot;radius&quot;: 5, &quot;stroke&quot;: true, &quot;weight&quot;: 3}\n",
       "            ).addTo(map_ebea94d38c80cd4d240fa03afc3d431e);\n",
       "        \n",
       "    \n",
       "            var circle_marker_ea6a907cafea52d8ea733b523d0c29a1 = L.circleMarker(\n",
       "                [-34.6037, -58.3816],\n",
       "                {&quot;bubblingMouseEvents&quot;: true, &quot;color&quot;: &quot;black&quot;, &quot;dashArray&quot;: null, &quot;dashOffset&quot;: null, &quot;fill&quot;: true, &quot;fillColor&quot;: &quot;black&quot;, &quot;fillOpacity&quot;: 0.2, &quot;fillRule&quot;: &quot;evenodd&quot;, &quot;lineCap&quot;: &quot;round&quot;, &quot;lineJoin&quot;: &quot;round&quot;, &quot;opacity&quot;: 1.0, &quot;radius&quot;: 5, &quot;stroke&quot;: true, &quot;weight&quot;: 3}\n",
       "            ).addTo(map_ebea94d38c80cd4d240fa03afc3d431e);\n",
       "        \n",
       "    \n",
       "            var circle_marker_eb72873618b4dd89aaa74376764befe7 = L.circleMarker(\n",
       "                [51.5074, -0.1278],\n",
       "                {&quot;bubblingMouseEvents&quot;: true, &quot;color&quot;: &quot;black&quot;, &quot;dashArray&quot;: null, &quot;dashOffset&quot;: null, &quot;fill&quot;: true, &quot;fillColor&quot;: &quot;black&quot;, &quot;fillOpacity&quot;: 0.2, &quot;fillRule&quot;: &quot;evenodd&quot;, &quot;lineCap&quot;: &quot;round&quot;, &quot;lineJoin&quot;: &quot;round&quot;, &quot;opacity&quot;: 1.0, &quot;radius&quot;: 5, &quot;stroke&quot;: true, &quot;weight&quot;: 3}\n",
       "            ).addTo(map_ebea94d38c80cd4d240fa03afc3d431e);\n",
       "        \n",
       "    \n",
       "            var circle_marker_25fa9614065398a85d1ee53bfe41aa99 = L.circleMarker(\n",
       "                [25.033, 121.5654],\n",
       "                {&quot;bubblingMouseEvents&quot;: true, &quot;color&quot;: &quot;black&quot;, &quot;dashArray&quot;: null, &quot;dashOffset&quot;: null, &quot;fill&quot;: true, &quot;fillColor&quot;: &quot;black&quot;, &quot;fillOpacity&quot;: 0.2, &quot;fillRule&quot;: &quot;evenodd&quot;, &quot;lineCap&quot;: &quot;round&quot;, &quot;lineJoin&quot;: &quot;round&quot;, &quot;opacity&quot;: 1.0, &quot;radius&quot;: 5, &quot;stroke&quot;: true, &quot;weight&quot;: 3}\n",
       "            ).addTo(map_ebea94d38c80cd4d240fa03afc3d431e);\n",
       "        \n",
       "&lt;/script&gt;\n",
       "&lt;/html&gt;\" style=\"position:absolute;width:100%;height:100%;left:0;top:0;border:none !important;\" allowfullscreen webkitallowfullscreen mozallowfullscreen></iframe></div></div>"
      ],
      "text/plain": [
       "<folium.folium.Map at 0x7fcf07863ca0>"
      ]
     },
     "execution_count": 406,
     "metadata": {},
     "output_type": "execute_result"
    }
   ],
   "source": [
    "m = folium.Map()\n",
    "\n",
    "for color, coords in points.items():\n",
    "    for coord in coords:\n",
    "        folium.CircleMarker(\n",
    "            location=coord,\n",
    "            radius=5,\n",
    "            color=color,\n",
    "            fill=True,\n",
    "            fill_color=color,\n",
    "        ).add_to(m)\n",
    "\n",
    "m"
   ]
  }
 ],
 "metadata": {
  "kernelspec": {
   "display_name": "Python 3 (ipykernel)",
   "language": "python",
   "name": "python3"
  },
  "language_info": {
   "codemirror_mode": {
    "name": "ipython",
    "version": 3
   },
   "file_extension": ".py",
   "mimetype": "text/x-python",
   "name": "python",
   "nbconvert_exporter": "python",
   "pygments_lexer": "ipython3",
   "version": "3.9.7"
  }
 },
 "nbformat": 4,
 "nbformat_minor": 5
}
